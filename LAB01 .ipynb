{
  "nbformat": 4,
  "nbformat_minor": 0,
  "metadata": {
    "colab": {
      "provenance": []
    },
    "kernelspec": {
      "name": "python3",
      "display_name": "Python 3"
    },
    "language_info": {
      "name": "python"
    }
  },
  "cells": [
    {
      "cell_type": "markdown",
      "source": [
        "\n",
        "\n",
        "# **Programming for Finance Lab 1**\n",
        "**Instructor:** Muhammad **Awais**  \n",
        "**Semester:** Spring 2025  \n",
        "**Department of Financial Technology**  \n",
        "**National University of Computer and Emerging Sciences, Islamabad Campus**\n",
        "\n",
        "## Lab Instructions\n",
        "- Submit your work as a **Jupyter Notebook (.ipynb)** file.\n",
        "- Name your file in the format **“ROLLNO_SECTION_LABNO.ipynb”** (E.g., 22I_1234_BSFT06C_LAB01.ipynb).\n",
        "- Ensure all code runs correctly before submission.\n",
        "- **Do not use AI-generated code (e.g., GPT, Copilot, etc.).** Your work must be original.\n",
        "- Submit the notebook on **Google Classroom**.\n"
      ],
      "metadata": {
        "id": "XsCrWk5jgYB1"
      }
    },
    {
      "cell_type": "markdown",
      "source": [
        "### **Task 1: Declaring Financial Variables and Printing Values**\n",
        "**Objective:**  \n",
        "Learn how to define and use variables to represent financial data. This task helps you understand how to store values like stock prices and number of shares and perform simple calculations on them.\n",
        "\n",
        "**Instructions:**\n",
        "- Define a variable `stock_price` to store the price of a single stock.\n",
        "- Define `num_shares` to store the number of shares you have.\n",
        "- Calculate the `total_investment` by multiplying the stock price with the number of shares.\n",
        "- Print the values of `stock_price`, `num_shares`, and `total_investment`."
      ],
      "metadata": {
        "id": "g2mfR0Iwgfot"
      }
    },
    {
      "cell_type": "code",
      "execution_count": null,
      "metadata": {
        "id": "nrYXh-x9gT95",
        "colab": {
          "base_uri": "https://localhost:8080/"
        },
        "outputId": "b647836c-b9ab-4531-c017-bf9afb2e114c"
      },
      "outputs": [
        {
          "output_type": "stream",
          "name": "stdout",
          "text": [
            "Stock Price: 10\n",
            "Number of Shares 100000\n",
            "Total Investment is: 1000000\n"
          ]
        }
      ],
      "source": [
        "stock_price= 10\n",
        "num_shares= 100000\n",
        "total_investment= stock_price * num_shares\n",
        "print(\"Stock Price:\",stock_price)\n",
        "print(\"Number of Shares\", num_shares)\n",
        "print(\"Total Investment is:\",total_investment )"
      ]
    },
    {
      "cell_type": "code",
      "source": [],
      "metadata": {
        "id": "JMz0EFHXU1WT"
      },
      "execution_count": null,
      "outputs": []
    },
    {
      "cell_type": "markdown",
      "source": [
        "### **Task 2: Identifying Data Types in Finance**\n",
        "\n",
        "**Objective:**  \n",
        "Understand the different types of data used in financial calculations.\n",
        "\n",
        "**Instructions:**\n",
        "- Print the data types of `stock_price`, `num_shares`, and `total_investment` to understand how Python recognizes different types of values (e.g., numbers with decimals, integers, and results from calculations)."
      ],
      "metadata": {
        "id": "NQSefwJ5ld99"
      }
    },
    {
      "cell_type": "code",
      "source": [
        "print(type(stock_price))\n",
        "print(type(num_shares))\n",
        "print(type(total_investment))"
      ],
      "metadata": {
        "id": "dLHleNH5liMG",
        "colab": {
          "base_uri": "https://localhost:8080/"
        },
        "outputId": "4a0a1211-8262-4aae-9e7e-aed78bc7a707"
      },
      "execution_count": null,
      "outputs": [
        {
          "output_type": "stream",
          "name": "stdout",
          "text": [
            "<class 'int'>\n",
            "<class 'int'>\n",
            "<class 'int'>\n"
          ]
        }
      ]
    },
    {
      "cell_type": "markdown",
      "source": [
        "### **Task 3: Basic Arithmetic Operations for Finance**\n",
        "**Objective:**  \n",
        "Perform basic arithmetic operations commonly used in finance, such as calculating profit, loss, and percentage change.\n",
        "\n",
        "**Instructions:**\n",
        "- Define a `buying_price`, `selling_price` and `num_shares` for stock transactions.\n",
        "- Calculate the profit from the transaction (selling price minus buying price, multiplied by the number of shares).\n",
        "\n",
        "    **Profit** = (Selling Price - Buying Price) × Number of Shares\n",
        "\n",
        "- Calculate the percentage change in price from buying to selling.\n",
        "\n",
        "    **Percentage Change** = ((Selling Price - Buying Price) / Buying Price) × 100\n",
        "- Print the calculated profit and percentage change.\n"
      ],
      "metadata": {
        "id": "KAwpyGzwliub"
      }
    },
    {
      "cell_type": "code",
      "source": [
        "buying_price= 500\n",
        "selling_price= 750\n",
        "num_shares= 1000\n",
        "profit = (selling_price-buying_price)* num_shares\n",
        "print( \"Profit is:\", profit)\n",
        "percentage_change= ((selling_price-buying_price)/buying_price)*100\n",
        "print(\"Percentage change is:\", percentage_change,\"%\")"
      ],
      "metadata": {
        "id": "IVRj9C53lm-d",
        "colab": {
          "base_uri": "https://localhost:8080/"
        },
        "outputId": "47452dff-a757-4943-92c3-575ed4419922"
      },
      "execution_count": null,
      "outputs": [
        {
          "output_type": "stream",
          "name": "stdout",
          "text": [
            "Profit is: 250000\n",
            "Percentage change is: 50.0 %\n"
          ]
        }
      ]
    },
    {
      "cell_type": "markdown",
      "source": [
        "# **Task 4: Practice with String Operations**\n",
        "\n",
        "This practice file is designed to help beginners explore various string operations in Python, such as case conversion, length calculation, word replacement, and substring manipulation. The exercises encourage understanding and experimentation with Python's string methods and functionalities.\n",
        "\n",
        "---\n",
        "\n",
        "## **Description of Exercises**\n",
        "\n",
        "### **1. Uppercase Conversion**\n",
        "- Create a variable with the word `\"python\"`.\n",
        "- Print the word in all uppercase letters.\n",
        "\n",
        "### **2. Lowercase Conversion**\n",
        "- Create a variable with the word `\"PROGRAMMING\"`.\n",
        "- Print the word in all lowercase letters.\n",
        "\n",
        "### **3. Word Length**\n",
        "- Get a word as input from the user.\n",
        "- Print the number of letters in the word.\n",
        "\n",
        "### **4. Word Replacement**\n",
        "- Create a sentence: `\"I like programming\"`.\n",
        "- Replace the word `\"programming\"` with `\"coding\"` and print the result.\n",
        "\n",
        "### **5. Full Name Joining**\n",
        "- Get the first name and last name as input from the user.\n",
        "- Join them with a space in between and print the full name.\n",
        "\n",
        "### **6. First and Last Letters**\n",
        "- Create a variable with a word.\n",
        "- Print the first letter of the word.\n",
        "- Print the last letter of the word.\n",
        "\n",
        "### **7. Substring Search**\n",
        "- Get a sentence as input from the user.\n",
        "- Check if the word `\"hello\"` exists in the sentence.\n",
        "- Print the result (True/False).\n",
        "\n",
        "### **8. Hyphenated Words**\n",
        "- Create two variables with words.\n",
        "- Join them together with a hyphen (`-`) in between.\n",
        "- Example: `word1 = \"blue\"`, `word2 = \"sky\"` → Output: `\"blue-sky\"`.\n",
        "\n",
        "### **Bonus Exercise: Word Repetition**\n",
        "- Get a word as input from the user.\n",
        "- Print the word 3 times, separated by spaces.\n",
        "  - Example: If the input is `\"hello\"`, the output should be: `\"hello hello hello\"`.\n",
        "\n",
        "---\n",
        "\n",
        "## **Learning Objectives**\n",
        "- Learn to manipulate strings with case conversion methods (`upper()`, `lower()`).\n",
        "- Practice counting characters using the `len()` function.\n",
        "- Understand how to replace parts of a string with the `replace()` method.\n",
        "- Explore joining and formatting strings.\n",
        "- Develop skills to check for substrings within larger strings.\n",
        "- Experiment with concatenation and repetition of strings.\n",
        "\n",
        "---\n",
        "\n"
      ],
      "metadata": {
        "id": "_bygM0DSlnZO"
      }
    },
    {
      "cell_type": "code",
      "source": [
        "# Learning Simple String Operations\n",
        "\n",
        "# Example 1: Basic text operations\n",
        "print(\"Example 1: Playing with text\")\n",
        "message = \"hello\"\n",
        "print(\"Original text:\", message)\n",
        "print(\"UPPERCASE:\", message.upper())\n",
        "print(\"First letter:\", message[0])\n",
        "print()\n",
        "\n",
        "# Example 2: Joining words\n",
        "print(\"Example 2: Joining words\")\n",
        "first_word = \"blue\"\n",
        "second_word = \"sky\"\n",
        "joined_words = first_word + \" \" + second_word\n",
        "print(\"First word:\", first_word)\n",
        "print(\"Second word:\", second_word)\n",
        "print(\"Joined words:\", joined_words)\n",
        "print()\n",
        "\n",
        "# Example 3: Counting letters\n",
        "print(\"Example 3: Counting letters\")\n",
        "word = \"butterfly\"\n",
        "letter_count = len(word)\n",
        "print(\"The word is:\", word)\n",
        "print(\"Number of letters:\", letter_count)\n",
        "print()\n",
        "\n",
        "# Example 4: Finding words\n",
        "print(\"Example 4: Finding words\")\n",
        "sentence = \"I love pizza\"\n",
        "has_pizza = \"pizza\" in sentence\n",
        "print(\"The sentence:\", sentence)\n",
        "print(\"Does it contain 'pizza'?\", has_pizza)\n",
        "print()\n",
        "\n",
        "# Example 5: Simple text replacement\n",
        "print(\"Example 5: Replacing words\")\n",
        "my_food = \"I like pasta\"\n",
        "new_food = my_food.replace(\"pasta\", \"pizza\")\n",
        "print(\"Original:\", my_food)\n",
        "print(\"After replacement:\", new_food)\n"
      ],
      "metadata": {
        "id": "fLljwCpOlwDF"
      },
      "execution_count": null,
      "outputs": []
    },
    {
      "cell_type": "code",
      "source": [
        "#Your Tasks\n",
        "# Practice with String Operations\n",
        "\n",
        "# 1. Create a variable with the word \"python\"\n",
        "# Print it in all uppercase letters\n",
        "variable = \"PYTHON\"\n",
        "print(variable)\n",
        "\n",
        "\n",
        "\n",
        "# 2. Create a variable with the word \"PROGRAMMING\"\n",
        "# Print it in all lowercase letters\n",
        "variable = \"programming\"\n",
        "print(variable)\n",
        "\n",
        "# 3. Get a word from user\n",
        "# Print how many letters are in that word\n",
        "variable = \"programming\"\n",
        "print(len(variable))\n",
        "\n",
        "\n",
        "# 4. Create a sentence: \"I like programming\"\n",
        "# Replace \"programming\" with \"coding\"\n",
        "text= \"I like programming\"\n",
        "replaced_text= text.replace(\"programming\",\"coding\")\n",
        "print(replaced_text)\n",
        "\n",
        "\n",
        "\n",
        "# 5. Get a first name from user\n",
        "# Get a last name from user\n",
        "# Join them with a space in between\n",
        "first_name= \"google\"\n",
        "last_name= \"colab\"\n",
        "print(first_name,last_name, sep=\"\")\n",
        "\n",
        "\n",
        "# 6. Create a word variable\n",
        "# Print its first letter\n",
        "# Print its last letter\n",
        "variable= \"word\"\n",
        "print(\"First letter:\",variable[0])\n",
        "print(\"Last letter:\",variable[3])\n",
        "\n",
        "\n",
        "\n",
        "# 7. Get a sentence from user\n",
        "# Check if the word \"hello\" is in that sentence\n",
        "# Print the result\n",
        "sentence=\"Hello world.\"\n",
        "print(\"Hello\"in sentence)\n",
        "\n",
        "\n",
        "\n",
        "# 8. Create two variables with words\n",
        "# Print them together with a hyphen in between\n",
        "# Example: word1 = \"blue\", word2 = \"sky\" → \"blue-sky\"\n",
        "first_name= \"table\"\n",
        "last_name= \"tennis\"\n",
        "print(first_name,\"-\", last_name, sep=\"\")\n"
      ],
      "metadata": {
        "id": "Xkh4HHpFwX-k",
        "colab": {
          "base_uri": "https://localhost:8080/"
        },
        "outputId": "63f938c2-c49b-4395-c31a-bbf859a2f7c9"
      },
      "execution_count": null,
      "outputs": [
        {
          "output_type": "stream",
          "name": "stdout",
          "text": [
            "PYTHON\n",
            "programming\n",
            "11\n",
            "I like coding\n",
            "googlecolab\n",
            "First letter: w\n",
            "Last letter: d\n",
            "True\n",
            "table-tennis\n"
          ]
        }
      ]
    },
    {
      "cell_type": "markdown",
      "source": [
        "### **Task 5: Calculate Total Cost of Investment**\n",
        "\n",
        "**Objective:**  \n",
        "Calculate the total cost of an investment based on the stock name, price per share, and number of shares the user wants to buy.\n",
        "\n",
        "### Instructions:\n",
        "1. Prompt the user to input the following:\n",
        "   - **Stock Name**: The name of the stock.\n",
        "   - **Price per Share**: The price of one share of the stock.\n",
        "   - **Number of Shares**: The number of shares the user wants to buy.\n",
        "2. Use the formula to calculate the total cost of the investment:\n",
        "\n",
        "   **Total Cost** = Price per Share × Number of Shares\n",
        "\n",
        "*   List item\n",
        "*   List item\n",
        "\n",
        "\n",
        "3. Display the **Total Cost** of the investment to the user.\n",
        "   "
      ],
      "metadata": {
        "id": "KxIMOLlQlwfG"
      }
    },
    {
      "cell_type": "code",
      "source": [
        "stock_name= input(\"Stock name:\")\n",
        "print(\"Name of stock is:\" +stock_name)"
      ],
      "metadata": {
        "colab": {
          "base_uri": "https://localhost:8080/"
        },
        "id": "ATlOpakPN-ap",
        "outputId": "f9441ce0-853c-4d49-977a-ab8d630540e5"
      },
      "execution_count": null,
      "outputs": [
        {
          "output_type": "stream",
          "name": "stdout",
          "text": [
            "Stock name:AMZ\n",
            "Name of stock is:AMZ\n"
          ]
        }
      ]
    },
    {
      "cell_type": "code",
      "source": [
        "stock_name= input(\"Stock name:\")\n",
        "print(\"Name of stock is:\" +stock_name)\n",
        "share_price= input()\n",
        "print(\"Price of one share of the stock:\" +share_price)\n",
        "share_numbers= input(\"The number of shares the user wants to buy:\")\n",
        "print(\"The number of shares the user wants to buy:\"+share_numbers)\n",
        "total_cost= share_price * share_numbers\n",
        "print(total_cost)"
      ],
      "metadata": {
        "id": "fugul8HMlzHx",
        "colab": {
          "base_uri": "https://localhost:8080/",
          "height": 297
        },
        "outputId": "4939e841-3c90-4e5d-c8ef-1c0227997098"
      },
      "execution_count": null,
      "outputs": [
        {
          "output_type": "stream",
          "name": "stdout",
          "text": [
            "Stock name:x\n",
            "Name of stock is:x\n",
            "10\n",
            "Price of one share of the stock:10\n",
            "The number of shares the user wants to buy:100\n",
            "The number of shares the user wants to buy:100\n"
          ]
        },
        {
          "output_type": "error",
          "ename": "TypeError",
          "evalue": "can't multiply sequence by non-int of type 'str'",
          "traceback": [
            "\u001b[0;31m---------------------------------------------------------------------------\u001b[0m",
            "\u001b[0;31mTypeError\u001b[0m                                 Traceback (most recent call last)",
            "\u001b[0;32m<ipython-input-7-edbceb2dd976>\u001b[0m in \u001b[0;36m<cell line: 0>\u001b[0;34m()\u001b[0m\n\u001b[1;32m      5\u001b[0m \u001b[0mshare_numbers\u001b[0m\u001b[0;34m=\u001b[0m \u001b[0minput\u001b[0m\u001b[0;34m(\u001b[0m\u001b[0;34m\"The number of shares the user wants to buy:\"\u001b[0m\u001b[0;34m)\u001b[0m\u001b[0;34m\u001b[0m\u001b[0;34m\u001b[0m\u001b[0m\n\u001b[1;32m      6\u001b[0m \u001b[0mprint\u001b[0m\u001b[0;34m(\u001b[0m\u001b[0;34m\"The number of shares the user wants to buy:\"\u001b[0m\u001b[0;34m+\u001b[0m\u001b[0mshare_numbers\u001b[0m\u001b[0;34m)\u001b[0m\u001b[0;34m\u001b[0m\u001b[0;34m\u001b[0m\u001b[0m\n\u001b[0;32m----> 7\u001b[0;31m \u001b[0mtotal_cost\u001b[0m\u001b[0;34m=\u001b[0m \u001b[0mshare_price\u001b[0m \u001b[0;34m*\u001b[0m \u001b[0mshare_numbers\u001b[0m\u001b[0;34m\u001b[0m\u001b[0;34m\u001b[0m\u001b[0m\n\u001b[0m\u001b[1;32m      8\u001b[0m \u001b[0mprint\u001b[0m\u001b[0;34m(\u001b[0m\u001b[0mtotal_cost\u001b[0m\u001b[0;34m)\u001b[0m\u001b[0;34m\u001b[0m\u001b[0;34m\u001b[0m\u001b[0m\n",
            "\u001b[0;31mTypeError\u001b[0m: can't multiply sequence by non-int of type 'str'"
          ]
        }
      ]
    },
    {
      "cell_type": "markdown",
      "source": [
        "### **Task 6: Simple Interest Calculator for Investment Growth**\n",
        "**Objective:**  \n",
        "Apply basic financial formulas to calculate the growth of an investment using simple interest.\n",
        "\n",
        "**Instructions:**\n",
        "- Ask the user for the principal amount (initial investment), interest rate, and the time period (in years).\n",
        "- Calculate the simple interest using the formula: Interest = (Principal * Rate * Time) / 100.\n",
        "- Calculate and display the total amount after adding the interest to the principal."
      ],
      "metadata": {
        "id": "SB6mP3Tllzio"
      }
    },
    {
      "cell_type": "code",
      "source": [
        "principal = int(input(\"Enter the principal amount: \"))\n",
        "rate = int(input(\"Enter the annual interest rate (in %): \"))\n",
        "time = int(input(\"Enter the time period (in years): \"))\n",
        "\n",
        "interest = (principal * rate * time) / 100\n",
        "\n",
        "total_amount = principal + interest\n",
        "\n",
        "print(\"\\nSimple Interest Calculation\")\n",
        "print(f\"Principal Amount: Rs.{principal}\")\n",
        "print(f\"Interest Rate: {rate}%\")\n",
        "print(f\"Time Period: {time} years\")\n",
        "print(f\"Simple Interest: Rs.{interest}\")\n",
        "print(f\"Total Amount after {time} years: Rs.{total_amount}\")"
      ],
      "metadata": {
        "id": "jGwGSAqQl3YN",
        "colab": {
          "base_uri": "https://localhost:8080/"
        },
        "outputId": "59310bd4-b720-4cb8-db75-aad3b01ebf45"
      },
      "execution_count": null,
      "outputs": [
        {
          "output_type": "stream",
          "name": "stdout",
          "text": [
            "Enter the principal amount: 1000\n",
            "Enter the annual interest rate (in %): 5\n",
            "Enter the time period (in years): 3\n",
            "\n",
            "Simple Interest Calculation\n",
            "Principal Amount: Rs.1000\n",
            "Interest Rate: 5%\n",
            "Time Period: 3 years\n",
            "Simple Interest: Rs.150.0\n",
            "Total Amount after 3 years: Rs.1150.0\n"
          ]
        }
      ]
    },
    {
      "cell_type": "markdown",
      "source": [
        "### **Task 7: Currency Conversion Calculator**\n",
        "**Objective:**  \n",
        "Convert currency values from USD to other major currencies.  \n",
        "\n",
        "**Instructions:**  \n",
        "1. Ask the user for an amount in **USD**.  \n",
        "2. Convert the amount into the following currencies using **fixed exchange rates** (example rates as of 2025, update as needed):  \n",
        "   - **Euros (EUR)** → 1 USD = 0.91 EUR  \n",
        "   - **British Pounds (GBP)** → 1 USD = 0.76 GBP  \n",
        "   - **Pakistani Rupees (PKR)** → 1 USD = 280 PKR  \n"
      ],
      "metadata": {
        "id": "5Rf8jI6QmA-u"
      }
    },
    {
      "cell_type": "code",
      "source": [
        "usd_amount = float(input(\"Enter the amount in USD: \"))\n",
        "eur_rate = 0.91\n",
        "gbp_rate = 0.76\n",
        "pkr_rate = 280\n",
        "eur_amount = usd_amount * eur_rate\n",
        "gbp_amount = usd_amount * gbp_rate\n",
        "pkr_amount = usd_amount * pkr_rate\n",
        "print(\"\\n--- Currency Conversion ---\")\n",
        "print(f\"${usd_amount:.2f} USD is equal to:\")\n",
        "print(f\"{eur_amount:.2f} EUR\")\n",
        "print(f\"{gbp_amount:.2f} GBP\")\n",
        "print(f\"{pkr_amount:.2f} PKR\")"
      ],
      "metadata": {
        "id": "MiWx357tmGFp",
        "colab": {
          "base_uri": "https://localhost:8080/"
        },
        "outputId": "0ddbeea5-4d87-40ef-8fa0-e870dca9989a"
      },
      "execution_count": null,
      "outputs": [
        {
          "output_type": "stream",
          "name": "stdout",
          "text": [
            "Enter the amount in USD: 250\n",
            "\n",
            "--- Currency Conversion ---\n",
            "$250.00 USD is equal to:\n",
            "227.50 EUR\n",
            "190.00 GBP\n",
            "70000.00 PKR\n"
          ]
        }
      ]
    },
    {
      "cell_type": "markdown",
      "source": [
        "### **Task 8: Finding the Largest Investment Value**\n",
        "**Objective:**  \n",
        "Compare investment amounts to determine the largest value.  \n",
        "\n",
        "**Instructions:**  \n",
        "1. Ask the user to enter **three different investment amounts**.  \n",
        "2. Use Python’s built-in functions to determine the **largest investment**.  "
      ],
      "metadata": {
        "id": "mLwwXRcAtnNr"
      }
    },
    {
      "cell_type": "code",
      "source": [
        "investment1 = float(input(\"Enter the first investment amount: \"))\n",
        "investment2 = float(input(\"Enter the second investment amount: \"))\n",
        "investment3 = float(input(\"Enter the third investment amount: \"))\n",
        "largest_investment = max(investment1, investment2, investment3)\n",
        "print(\"\\n--- Investment Comparison ---\")\n",
        "print(\"Investment 1: $\", investment1)\n",
        "print(\"Investment 2: $\", investment2)\n",
        "print(\"Investment 3: $\", investment3)\n",
        "print(\"--------------------------\")\n",
        "print(\"The largest investment is: $\", largest_investment)"
      ],
      "metadata": {
        "id": "YDDXstK-tsmm",
        "colab": {
          "base_uri": "https://localhost:8080/"
        },
        "outputId": "39feaecf-1c91-4a6c-b1b2-c8cdde0ee556"
      },
      "execution_count": null,
      "outputs": [
        {
          "output_type": "stream",
          "name": "stdout",
          "text": [
            "Enter the first investment amount: 1000\n",
            "Enter the second investment amount: 2000\n",
            "Enter the third investment amount: 3000\n",
            "\n",
            "--- Investment Comparison ---\n",
            "Investment 1: $ 1000.0\n",
            "Investment 2: $ 2000.0\n",
            "Investment 3: $ 3000.0\n",
            "--------------------------\n",
            "The largest investment is: $ 3000.0\n"
          ]
        }
      ]
    },
    {
      "cell_type": "markdown",
      "source": [
        "### **Task 9: Simple Calculator for Basic Operations**\n",
        "\n",
        "**Objective:**  \n",
        "Create a simple calculator program that performs basic arithmetic operations on two numbers. The user is prompted to enter two numbers, and the program automatically performs the following operations:\n",
        "\n",
        "- **Addition**\n",
        "- **Subtraction**\n",
        "- **Multiplication**\n",
        "- **Division** (with a check for division by zero)\n",
        "- **Exponentiation**\n",
        "\n",
        "### Instructions:\n",
        "1. The program will ask the user to input two numbers.\n",
        "2. The program will then display the results of the following operations on the two numbers:\n",
        "   - **Addition**: Adds the two numbers.\n",
        "   - **Subtraction**: Subtracts the second number from the first number.\n",
        "   - **Multiplication**: Multiplies the two numbers.\n",
        "   - **Division**: Divides the first number by the second number. If division by zero is attempted, the program will display an error message.\n",
        "   - **Exponentiation**: Raises the first number to the power of the second number.\n",
        "   \n",
        "\n"
      ],
      "metadata": {
        "id": "gma9brebt0Px"
      }
    },
    {
      "cell_type": "code",
      "source": [
        "num1 = int(input(\"Enter the first number: \"))\n",
        "num2 = int(input(\"Enter the second number: \"))\n",
        "add=num1+num2\n",
        "sub=num1-num2\n",
        "multiply=num1*num2\n",
        "if num2==0:\n",
        "    div=\"error\"\n",
        "else:\n",
        "    div=num1/num2\n",
        "expo=num1**num2\n",
        "\n",
        "print(\"\\n--- Basic Calculations ---\")\n",
        "print(add)\n",
        "print(sub)\n",
        "print(multiply)\n",
        "print(expo)"
      ],
      "metadata": {
        "id": "lAumZyjzxBJt",
        "outputId": "dd88fb56-d69b-4b37-a49a-6a22787d4973",
        "colab": {
          "base_uri": "https://localhost:8080/"
        }
      },
      "execution_count": null,
      "outputs": [
        {
          "output_type": "stream",
          "name": "stdout",
          "text": [
            "Enter the first number: 5\n",
            "Enter the second number: 10\n",
            "\n",
            "--- Basic Calculations ---\n",
            "15\n",
            "-5\n",
            "50\n",
            "9765625\n"
          ]
        }
      ]
    },
    {
      "cell_type": "markdown",
      "source": [
        "### **Task 10: Calculate Compound Interest**\n",
        "\n",
        "**Objective:**  \n",
        "Create a program that calculates the compound interest on an investment.\n",
        "\n",
        "### Instructions:\n",
        "1. Ask the user to input:\n",
        "   - **Principal** (Initial Investment)\n",
        "   - **Rate** (Annual Interest Rate in percentage)\n",
        "   - **Time** (Number of years)\n",
        "   - **Frequency** (Number of times the interest is compounded per year)\n",
        "\n",
        "2. Use the compound interest formula:\n",
        "            A = P * (1 + r/n)^(nt)\n",
        "Where:\n",
        "- **A** = Final amount after interest\n",
        "- **P** = Principal (Initial investment)\n",
        "- **r** = Annual interest rate (decimal form)\n",
        "- **t** = Time in years\n",
        "- **n** = Number of times the interest is compounded per year\n",
        "\n",
        "3. Calculate the compound interest:\n",
        "        Compound Interest = A - P\n",
        "\n",
        "\n",
        "4. Display the **compound interest** and the **final amount**.\n",
        "\n",
        "\n"
      ],
      "metadata": {
        "id": "1Ys9mGiymFIJ"
      }
    },
    {
      "cell_type": "code",
      "source": [
        "P = float(input(\"Enter the principal (initial investment): \"))\n",
        "r = float(input(\"Enter the annual interest rate (in percentage): \")) / 100\n",
        "t = float(input(\"Enter the time (in years): \"))\n",
        "n = int(input(\"Enter the number of times the interest is compounded per year: \"))\n",
        "\n",
        "A = P * (1 + r / n) ** (n * t)\n",
        "\n",
        "compound_interest = A - P\n",
        "\n",
        "print(f\"Compound Interest: {compound_interest}\")\n",
        "print(f\"Final Amount: {A}\")"
      ],
      "metadata": {
        "colab": {
          "base_uri": "https://localhost:8080/"
        },
        "id": "k5j-sVbEz49Q",
        "outputId": "68c9be6d-327e-4731-e0d0-f7316fb63bcc"
      },
      "execution_count": null,
      "outputs": [
        {
          "output_type": "stream",
          "name": "stdout",
          "text": [
            "Enter the principal (initial investment): 1000\n",
            "Enter the annual interest rate (in percentage): 5\n",
            "Enter the time (in years): 10\n",
            "Enter the number of times the interest is compounded per year: 2\n",
            "Compound Interest: 638.6164402903942\n",
            "Final Amount: 1638.6164402903942\n"
          ]
        }
      ]
    },
    {
      "cell_type": "markdown",
      "source": [
        "### Final Deliverables\n",
        "- Submit a Notebook (.ipynb) file containing all tasks.\n",
        "- Submit it on Google Classroom following the naming convention.\n",
        "- Ensure originality; AI-generated code is not allowed."
      ],
      "metadata": {
        "id": "Ijwus5kEmR9n"
      }
    }
  ]
}